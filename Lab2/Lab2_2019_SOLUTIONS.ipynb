{
 "cells": [
  {
   "cell_type": "code",
   "execution_count": 1,
   "metadata": {},
   "outputs": [],
   "source": [
    "# Lab 2 with solutions (10 Jan 2018) \n",
    "\n",
    "# Units of variables given in the dataset:\n",
    "#    elevation: meters above sea level\n",
    "#    g: mm water equivalent per meter (db/dz)\n",
    "#    continentality: degrees Celsius\n",
    "#    cloud cover: percentage\n",
    "#    summer temperature: degrees Celsius\n",
    "#    precipitation: mm per year\n",
    "#    average winter precipitation: mm per month \n",
    "\n",
    "# NOTE: climate variables are given from climatological gridded data (CRU) provided for the whole globe on ca 50x50 km grid\n",
    "#\n",
    "# Variables:\n",
    "#                       g: [1x136 double]  glacier mass balance gradient (as an average over the observed period)\n",
    "#        median_elevation: [1x136 double]  Median glacier elevation (derived from glacier hypsometry: glacier area vs elevation)\n",
    "#      summer_temperature: [1x136 double]  Summer near-surface air temperature over a grid cell (ca 50x50 km) covering the glacier (averaged over the observed period)\n",
    "#           precipitation: [1x136 double]  Total annaul precipitation over a grid cell (ca 50x50 km) covering the glacier (averaged over the observed period)\n",
    "#                     lat: [1x136 double]  Geographical latitude of the glacier (in degrees)\n",
    "#           max_elevation: [1x136 double]  Maximum glacier elevation\n",
    "#                 WGMS ID: [1x136 int64]   Given glacier ID (from World Glacier Monitoring Service)\n",
    "#    winter_precipitation: [1x136 double]  Same as for precipation but derived only over winter months \n",
    "#                     lon: [1x136 double]  Geographical longitude of the glacier (in degrees)\n",
    "#             cloud_cover: [1x136 double]  Annual cloud cover over a grid cell (ca 50x50 km) covering the glacier (averaged over the observed period)\n",
    "#          continentality: [1x136 double]  Maximum monthly temperature minus minimum monthly temperature over a year (over a grid cell covering the glacier and averaged over the observed period). The larger the continentality index the climate is more continental (rather than maritime). \n",
    "\n"
   ]
  },
  {
   "cell_type": "code",
   "execution_count": 1,
   "metadata": {},
   "outputs": [],
   "source": [
    "#import all required libraries etc\n",
    "\n",
    "from scipy.io import loadmat\n",
    "import pandas as pd\n",
    "import numpy as np\n",
    "import matplotlib.pyplot as plt\n",
    "from sklearn import linear_model\n",
    "import statsmodels.api as sm\n",
    "import itertools"
   ]
  },
  {
   "cell_type": "code",
   "execution_count": 2,
   "metadata": {},
   "outputs": [],
   "source": [
    "#run notebook with functions we'll need\n",
    "\n",
    "%run ./Lab2_2019_functions.ipynb"
   ]
  },
  {
   "cell_type": "code",
   "execution_count": 3,
   "metadata": {},
   "outputs": [
    {
     "data": {
      "text/html": [
       "<div>\n",
       "<style scoped>\n",
       "    .dataframe tbody tr th:only-of-type {\n",
       "        vertical-align: middle;\n",
       "    }\n",
       "\n",
       "    .dataframe tbody tr th {\n",
       "        vertical-align: top;\n",
       "    }\n",
       "\n",
       "    .dataframe thead th {\n",
       "        text-align: right;\n",
       "    }\n",
       "</style>\n",
       "<table border=\"1\" class=\"dataframe\">\n",
       "  <thead>\n",
       "    <tr style=\"text-align: right;\">\n",
       "      <th></th>\n",
       "      <th>g</th>\n",
       "      <th>median_elevation</th>\n",
       "      <th>summer_temperature</th>\n",
       "      <th>precipitation</th>\n",
       "      <th>lat</th>\n",
       "      <th>max_elevation</th>\n",
       "      <th>winter_precipitation</th>\n",
       "      <th>lon</th>\n",
       "      <th>cloud_cover</th>\n",
       "      <th>continentality</th>\n",
       "    </tr>\n",
       "  </thead>\n",
       "  <tbody>\n",
       "    <tr>\n",
       "      <th>0</th>\n",
       "      <td>8.102728</td>\n",
       "      <td>1071.00</td>\n",
       "      <td>7.626667</td>\n",
       "      <td>483.990</td>\n",
       "      <td>-54.78</td>\n",
       "      <td>1172.5</td>\n",
       "      <td>36.273333</td>\n",
       "      <td>-68.40</td>\n",
       "      <td>63.393750</td>\n",
       "      <td>8.395</td>\n",
       "    </tr>\n",
       "    <tr>\n",
       "      <th>1</th>\n",
       "      <td>1.860170</td>\n",
       "      <td>2660.00</td>\n",
       "      <td>11.663333</td>\n",
       "      <td>1637.810</td>\n",
       "      <td>47.04</td>\n",
       "      <td>2950.0</td>\n",
       "      <td>91.578333</td>\n",
       "      <td>12.97</td>\n",
       "      <td>61.731667</td>\n",
       "      <td>18.830</td>\n",
       "    </tr>\n",
       "    <tr>\n",
       "      <th>2</th>\n",
       "      <td>9.194071</td>\n",
       "      <td>2560.00</td>\n",
       "      <td>14.881667</td>\n",
       "      <td>1521.845</td>\n",
       "      <td>47.48</td>\n",
       "      <td>2910.0</td>\n",
       "      <td>83.785000</td>\n",
       "      <td>13.62</td>\n",
       "      <td>61.529583</td>\n",
       "      <td>20.045</td>\n",
       "    </tr>\n",
       "    <tr>\n",
       "      <th>3</th>\n",
       "      <td>4.162200</td>\n",
       "      <td>3039.75</td>\n",
       "      <td>11.683333</td>\n",
       "      <td>1550.760</td>\n",
       "      <td>46.80</td>\n",
       "      <td>3715.5</td>\n",
       "      <td>93.790000</td>\n",
       "      <td>10.77</td>\n",
       "      <td>62.957083</td>\n",
       "      <td>18.725</td>\n",
       "    </tr>\n",
       "    <tr>\n",
       "      <th>4</th>\n",
       "      <td>4.411077</td>\n",
       "      <td>2795.00</td>\n",
       "      <td>10.561667</td>\n",
       "      <td>1726.480</td>\n",
       "      <td>46.85</td>\n",
       "      <td>3140.0</td>\n",
       "      <td>110.065000</td>\n",
       "      <td>10.15</td>\n",
       "      <td>64.265417</td>\n",
       "      <td>17.855</td>\n",
       "    </tr>\n",
       "  </tbody>\n",
       "</table>\n",
       "</div>"
      ],
      "text/plain": [
       "          g  median_elevation  summer_temperature  precipitation    lat  \\\n",
       "0  8.102728           1071.00            7.626667        483.990 -54.78   \n",
       "1  1.860170           2660.00           11.663333       1637.810  47.04   \n",
       "2  9.194071           2560.00           14.881667       1521.845  47.48   \n",
       "3  4.162200           3039.75           11.683333       1550.760  46.80   \n",
       "4  4.411077           2795.00           10.561667       1726.480  46.85   \n",
       "\n",
       "   max_elevation  winter_precipitation    lon  cloud_cover  continentality  \n",
       "0         1172.5             36.273333 -68.40    63.393750           8.395  \n",
       "1         2950.0             91.578333  12.97    61.731667          18.830  \n",
       "2         2910.0             83.785000  13.62    61.529583          20.045  \n",
       "3         3715.5             93.790000  10.77    62.957083          18.725  \n",
       "4         3140.0            110.065000  10.15    64.265417          17.855  "
      ]
     },
     "execution_count": 3,
     "metadata": {},
     "output_type": "execute_result"
    }
   ],
   "source": [
    "#load the data and check it out\n",
    "\n",
    "data = pd.read_csv('glaciers.csv')\n",
    "data.head()"
   ]
  },
  {
   "cell_type": "code",
   "execution_count": 4,
   "metadata": {},
   "outputs": [
    {
     "name": "stderr",
     "output_type": "stream",
     "text": [
      "/Users/samanderson/anaconda3/envs/eosc_410/lib/python3.7/site-packages/numpy/core/fromnumeric.py:56: FutureWarning: Series.nonzero() is deprecated and will be removed in a future version.Use Series.to_numpy().nonzero() instead\n",
      "  return getattr(obj, method)(*args, **kwds)\n"
     ]
    }
   ],
   "source": [
    "#clean data -- g<0 is non physical and this data point should be removed\n",
    "\n",
    "data = data.drop(np.argwhere(data['g']<0)[0])"
   ]
  },
  {
   "cell_type": "code",
   "execution_count": 5,
   "metadata": {},
   "outputs": [
    {
     "data": {
      "text/html": [
       "<div>\n",
       "<style scoped>\n",
       "    .dataframe tbody tr th:only-of-type {\n",
       "        vertical-align: middle;\n",
       "    }\n",
       "\n",
       "    .dataframe tbody tr th {\n",
       "        vertical-align: top;\n",
       "    }\n",
       "\n",
       "    .dataframe thead th {\n",
       "        text-align: right;\n",
       "    }\n",
       "</style>\n",
       "<table border=\"1\" class=\"dataframe\">\n",
       "  <thead>\n",
       "    <tr style=\"text-align: right;\">\n",
       "      <th></th>\n",
       "      <th>g</th>\n",
       "      <th>median_elevation</th>\n",
       "      <th>summer_temperature</th>\n",
       "      <th>precipitation</th>\n",
       "      <th>lat</th>\n",
       "      <th>max_elevation</th>\n",
       "      <th>winter_precipitation</th>\n",
       "      <th>lon</th>\n",
       "      <th>cloud_cover</th>\n",
       "      <th>continentality</th>\n",
       "    </tr>\n",
       "  </thead>\n",
       "  <tbody>\n",
       "    <tr>\n",
       "      <th>0</th>\n",
       "      <td>0.729295</td>\n",
       "      <td>-1.127617</td>\n",
       "      <td>-0.610002</td>\n",
       "      <td>-1.008986</td>\n",
       "      <td>-4.510634</td>\n",
       "      <td>-1.305564</td>\n",
       "      <td>-0.826765</td>\n",
       "      <td>-0.917411</td>\n",
       "      <td>-0.073330</td>\n",
       "      <td>-1.567918</td>\n",
       "    </tr>\n",
       "    <tr>\n",
       "      <th>1</th>\n",
       "      <td>-1.252792</td>\n",
       "      <td>0.077903</td>\n",
       "      <td>0.303656</td>\n",
       "      <td>0.634920</td>\n",
       "      <td>-0.009790</td>\n",
       "      <td>0.000761</td>\n",
       "      <td>0.080425</td>\n",
       "      <td>0.221562</td>\n",
       "      <td>-0.285946</td>\n",
       "      <td>-0.270948</td>\n",
       "    </tr>\n",
       "    <tr>\n",
       "      <th>2</th>\n",
       "      <td>1.075809</td>\n",
       "      <td>0.002036</td>\n",
       "      <td>1.032093</td>\n",
       "      <td>0.469699</td>\n",
       "      <td>0.009659</td>\n",
       "      <td>-0.028636</td>\n",
       "      <td>-0.047412</td>\n",
       "      <td>0.230660</td>\n",
       "      <td>-0.311797</td>\n",
       "      <td>-0.119936</td>\n",
       "    </tr>\n",
       "    <tr>\n",
       "      <th>3</th>\n",
       "      <td>-0.521870</td>\n",
       "      <td>0.366006</td>\n",
       "      <td>0.308183</td>\n",
       "      <td>0.510896</td>\n",
       "      <td>-0.020399</td>\n",
       "      <td>0.563344</td>\n",
       "      <td>0.116703</td>\n",
       "      <td>0.190768</td>\n",
       "      <td>-0.129189</td>\n",
       "      <td>-0.283999</td>\n",
       "    </tr>\n",
       "    <tr>\n",
       "      <th>4</th>\n",
       "      <td>-0.442849</td>\n",
       "      <td>0.180323</td>\n",
       "      <td>0.054305</td>\n",
       "      <td>0.761253</td>\n",
       "      <td>-0.018189</td>\n",
       "      <td>0.140396</td>\n",
       "      <td>0.383669</td>\n",
       "      <td>0.182089</td>\n",
       "      <td>0.038174</td>\n",
       "      <td>-0.392131</td>\n",
       "    </tr>\n",
       "  </tbody>\n",
       "</table>\n",
       "</div>"
      ],
      "text/plain": [
       "          g  median_elevation  summer_temperature  precipitation       lat  \\\n",
       "0  0.729295         -1.127617           -0.610002      -1.008986 -4.510634   \n",
       "1 -1.252792          0.077903            0.303656       0.634920 -0.009790   \n",
       "2  1.075809          0.002036            1.032093       0.469699  0.009659   \n",
       "3 -0.521870          0.366006            0.308183       0.510896 -0.020399   \n",
       "4 -0.442849          0.180323            0.054305       0.761253 -0.018189   \n",
       "\n",
       "   max_elevation  winter_precipitation       lon  cloud_cover  continentality  \n",
       "0      -1.305564             -0.826765 -0.917411    -0.073330       -1.567918  \n",
       "1       0.000761              0.080425  0.221562    -0.285946       -0.270948  \n",
       "2      -0.028636             -0.047412  0.230660    -0.311797       -0.119936  \n",
       "3       0.563344              0.116703  0.190768    -0.129189       -0.283999  \n",
       "4       0.140396              0.383669  0.182089     0.038174       -0.392131  "
      ]
     },
     "execution_count": 5,
     "metadata": {},
     "output_type": "execute_result"
    }
   ],
   "source": [
    "#normalize data and check it out\n",
    "\n",
    "data_norm = (data - data.mean())/data.std()\n",
    "data_norm.head()"
   ]
  },
  {
   "cell_type": "code",
   "execution_count": 7,
   "metadata": {},
   "outputs": [
    {
     "data": {
      "text/plain": [
       "Text(0.5, 1.0, 'Visualizing Normalization')"
      ]
     },
     "execution_count": 7,
     "metadata": {},
     "output_type": "execute_result"
    },
    {
     "data": {
      "image/png": "[encoded data removed]",
      "text/plain": [
       "<Figure size 1080x288 with 2 Axes>"
      ]
     },
     "metadata": {
      "needs_background": "light"
     },
     "output_type": "display_data"
    }
   ],
   "source": [
    "#visualize normalization\n",
    "\n",
    "plt.figure(figsize=[15,4])\n",
    "\n",
    "plt.subplot(1,2,1)\n",
    "plt.plot(data['g'])\n",
    "plt.plot(data_norm['g'])\n",
    "plt.legend(['Raw data','Normalized'])\n",
    "plt.ylabel('g')\n",
    "plt.xlabel('glacier')\n",
    "plt.title('Visualizing Normalization')\n",
    "\n",
    "plt.subplot(1,2,2)\n",
    "plt.scatter(data['g'],data_norm['g'])\n",
    "plt.ylabel('g_norm')\n",
    "plt.xlabel('g')\n",
    "plt.title('Visualizing Normalization')"
   ]
  },
  {
   "cell_type": "code",
   "execution_count": 8,
   "metadata": {},
   "outputs": [],
   "source": [
    "#unpack data\n",
    "lat = data_norm['lat']\n",
    "lon = data_norm['lon']\n",
    "hmax = data_norm['max_elevation']\n",
    "hmed = data_norm['median_elevation']\n",
    "g = data_norm['g']\n",
    "Pannual = data_norm['precipitation']\n",
    "Pwinter = data_norm['winter_precipitation']\n",
    "CI = data_norm['continentality']\n",
    "cloud = data_norm['cloud_cover']\n",
    "Tsummer = data_norm['summer_temperature']"
   ]
  },
  {
   "cell_type": "code",
   "execution_count": 9,
   "metadata": {},
   "outputs": [],
   "source": [
    "#target variable: y; predictor variable(s): x\n",
    "\n",
    "y = g\n",
    "X = data_norm.drop('g',axis=1)"
   ]
  },
  {
   "cell_type": "markdown",
   "metadata": {},
   "source": [
    "SOLUTIONS:"
   ]
  },
  {
   "cell_type": "markdown",
   "metadata": {},
   "source": [
    "Apply MLR to standardized input"
   ]
  },
  {
   "cell_type": "code",
   "execution_count": 10,
   "metadata": {},
   "outputs": [],
   "source": [
    "#make MLR model, fit to the data, and predict y\n",
    "\n",
    "lm_MLR = linear_model.LinearRegression()\n",
    "model = lm_MLR.fit(X,y)\n",
    "ypred_MLR = lm_MLR.predict(X) #y predicted by MLR\n",
    "intercept_MLR = lm_MLR.intercept_ #intercept predicted by MLR\n",
    "coef_MLR = lm_MLR.coef_ #regression coefficients in MLR model\n",
    "R2_MLR = lm_MLR.score(X,y) #R-squared value from MLR model"
   ]
  },
  {
   "cell_type": "code",
   "execution_count": 12,
   "metadata": {},
   "outputs": [
    {
     "data": {
      "text/plain": [
       "Text(0.5, 1.0, 'MLR Model Results: R^2 = 0.38')"
      ]
     },
     "execution_count": 12,
     "metadata": {},
     "output_type": "execute_result"
    },
    {
     "data": {
      "image/png": "[encoded data removed]",
      "text/plain": [
       "<Figure size 432x288 with 1 Axes>"
      ]
     },
     "metadata": {
      "needs_background": "light"
     },
     "output_type": "display_data"
    }
   ],
   "source": [
    "#visualize MLR model performance\n",
    "\n",
    "ax = plt.subplot(111)\n",
    "ax.scatter(y,ypred_MLR)\n",
    "l1 = np.min(ax.get_xlim())\n",
    "l2 = np.max(ax.get_xlim())\n",
    "ax.plot([l1,l2], [l1,l2], ls=\"--\", c=\".3\")\n",
    "plt.xlabel('Measured g_norm')\n",
    "plt.ylabel('Modelled g_norm')\n",
    "plt.title('MLR Model Results: R^2 = ' + str(R2_MLR)[:4])"
   ]
  },
  {
   "cell_type": "markdown",
   "metadata": {},
   "source": [
    "Apply stepwise regression on standardized input"
   ]
  },
  {
   "cell_type": "code",
   "execution_count": 13,
   "metadata": {},
   "outputs": [
    {
     "name": "stdout",
     "output_type": "stream",
     "text": [
      "Add  continentality                 with p-value 3.75066e-10\n",
      "resulting features:\n",
      "['continentality']\n"
     ]
    },
    {
     "name": "stderr",
     "output_type": "stream",
     "text": [
      "/Users/samanderson/anaconda3/envs/eosc_410/lib/python3.7/site-packages/numpy/core/fromnumeric.py:2389: FutureWarning: Method .ptp is deprecated and will be removed in a future version. Use numpy.ptp instead.\n",
      "  return ptp(axis=axis, out=out, **kwargs)\n",
      "/Users/samanderson/anaconda3/envs/eosc_410/lib/python3.7/site-packages/ipykernel_launcher.py:35: FutureWarning: \n",
      "The current behaviour of 'Series.argmin' is deprecated, use 'idxmin'\n",
      "instead.\n",
      "The behavior of 'argmin' will be corrected to return the positional\n",
      "minimum in the future. For now, use 'series.values.argmin' or\n",
      "'np.argmin(np.array(values))' to get the position of the minimum\n",
      "row.\n"
     ]
    }
   ],
   "source": [
    "#use stepwise regression to find which predictors to use\n",
    "\n",
    "result = stepwise_selection(X, y)\n",
    "\n",
    "print('resulting features:')\n",
    "print(result)"
   ]
  },
  {
   "cell_type": "code",
   "execution_count": 14,
   "metadata": {},
   "outputs": [],
   "source": [
    "#do MLR using predictors chosen from stepwise regression\n",
    "\n",
    "lm_step = linear_model.LinearRegression()\n",
    "model_step = lm_step.fit(X[result],y)\n",
    "ypred_step = lm_step.predict(X[result]) #y predicted by MLR\n",
    "intercept_step = lm_step.intercept_ #intercept predicted by MLR\n",
    "coef_step = lm_step.coef_ #regression coefficients in MLR model\n",
    "R2_step = lm_step.score(X[result],y) #R-squared value from MLR model\n"
   ]
  },
  {
   "cell_type": "code",
   "execution_count": 15,
   "metadata": {},
   "outputs": [
    {
     "data": {
      "text/plain": [
       "Text(0.5, 1.0, 'Stepwise Model Results: R^2 = 0.25')"
      ]
     },
     "execution_count": 15,
     "metadata": {},
     "output_type": "execute_result"
    },
    {
     "data": {
      "image/png": "[encoded data removed]",
      "text/plain": [
       "<Figure size 432x288 with 1 Axes>"
      ]
     },
     "metadata": {
      "needs_background": "light"
     },
     "output_type": "display_data"
    }
   ],
   "source": [
    "#visualize stepwise model performance\n",
    "\n",
    "ax = plt.subplot(111)\n",
    "ax.scatter(y,ypred_step)\n",
    "l1 = np.min(ax.get_xlim())\n",
    "l2 = np.max(ax.get_xlim())\n",
    "ax.plot([l1,l2], [l1,l2], ls=\"--\", c=\".3\")\n",
    "plt.xlabel('Measured g_norm')\n",
    "plt.ylabel('Modelled g_norm')\n",
    "plt.title('Stepwise Model Results: R^2 = ' + str(R2_step)[:4])"
   ]
  },
  {
   "cell_type": "markdown",
   "metadata": {},
   "source": [
    "Apply calibration - validation approach on standardized input"
   ]
  },
  {
   "cell_type": "code",
   "execution_count": 17,
   "metadata": {},
   "outputs": [
    {
     "name": "stdout",
     "output_type": "stream",
     "text": [
      "The best combination of predictors is: \n",
      "['median_elevation', 'lat', 'max_elevation', 'cloud_cover']\n",
      "R^2 = 0.28\n"
     ]
    }
   ],
   "source": [
    "#goal: loop through every combination of normalized predictors, make linear model, and find one with best performance\n",
    "\n",
    "R2_best = []\n",
    "combo_best = []\n",
    "\n",
    "for kk in range(1,10): #for each total number of predictors to use in model (from 1 predictor to 9 predictors)\n",
    "    \n",
    "    v0 = range(np.shape(X)[1])\n",
    "    combinations = list(itertools.combinations(range(np.shape(X)[1]),kk)) #all possible combinations of kk total predictors \n",
    "    R2_test = []\n",
    "    \n",
    "    for ind in range(len(combinations)): #for each combination of predictors, make MLR model and compute R^2\n",
    "\n",
    "        test_vars = np.array(combinations[ind])\n",
    "        X_test = X.iloc[::2,test_vars]\n",
    "        y_test = y.iloc[::2]\n",
    "        \n",
    "        X_valid = X.iloc[1::2,test_vars]\n",
    "        y_valid = y.iloc[1::2]\n",
    "\n",
    "        lm_test = linear_model.LinearRegression()\n",
    "        model_test = lm_test.fit(X_test,y_test)\n",
    "        ypred_test = lm_test.predict(X_test) #y predicted by MLR\n",
    "        R2_test.append(lm_test.score(X_valid,y_valid)) #R-squared value from MLR model\n",
    "\n",
    "    R2_best.append(np.max(R2_test))\n",
    "    combo_best.append(combinations[np.argmax(R2_test)])\n",
    "    \n",
    "R2_best_final = np.max(R2_best)\n",
    "combo_best_final = combo_best[np.argmax(R2_best)]\n",
    "\n",
    "print('The best combination of predictors is: ' )\n",
    "print(list(X.columns[np.asarray(combo_best_final)]))"
   ]
  },
  {
   "cell_type": "code",
   "execution_count": 21,
   "metadata": {},
   "outputs": [],
   "source": [
    "#build linear model using the best combination of predictors\n",
    "\n",
    "X_calib_valid = X.iloc[:,np.asarray(combo_best_final)]\n",
    "\n",
    "lm_calib_valid = linear_model.LinearRegression()\n",
    "model_calib_valid = lm_calib_valid.fit(X_calib_valid,y)\n",
    "ypred_calib_valid = lm_calib_valid.predict(X_calib_valid) #y predicted by MLR\n",
    "intercept_calib_valid = lm_calib_valid.intercept_ #intercept predicted by MLR\n",
    "coef_calib_valid = lm_calib_valid.coef_ #regression coefficients in MLR model\n",
    "R2_calib_valid = lm_calib_valid.score(X_calib_valid,y) #R-squared value from MLR model"
   ]
  },
  {
   "cell_type": "code",
   "execution_count": 22,
   "metadata": {},
   "outputs": [
    {
     "data": {
      "text/plain": [
       "Text(0.5, 1.0, 'Calibration-Validation Model Results: R^2 = 0.32')"
      ]
     },
     "execution_count": 22,
     "metadata": {},
     "output_type": "execute_result"
    },
    {
     "data": {
      "image/png": "[encoded data removed]",
      "text/plain": [
       "<Figure size 432x288 with 1 Axes>"
      ]
     },
     "metadata": {
      "needs_background": "light"
     },
     "output_type": "display_data"
    }
   ],
   "source": [
    "#visualize calibration-validation model performance\n",
    "\n",
    "ax = plt.subplot(111)\n",
    "ax.scatter(y,ypred_calib_valid)\n",
    "l1 = np.min(ax.get_xlim())\n",
    "l2 = np.max(ax.get_xlim())\n",
    "ax.plot([l1,l2], [l1,l2], ls=\"--\", c=\".3\")\n",
    "plt.xlabel('Measured g_norm')\n",
    "plt.ylabel('Modelled g_norm')\n",
    "plt.title('Calibration-Validation Model Results: R^2 = ' + str(R2_calib_valid)[:4])"
   ]
  },
  {
   "cell_type": "code",
   "execution_count": null,
   "metadata": {},
   "outputs": [],
   "source": [
    "#Answers to the specific questions:\n",
    "\n",
    "# 1) How well can the spatial variability in mass balance gradient be represented by a multiple linear\n",
    "# regression (MLR) using all the plausible predictors from the given dataset?\n",
    "# Answer: R^2 is a metric of the goodness of the fit, which is the same as correlation \n",
    "# coefficient squared.  In this case, R^2 = 0.38 (38% variance is expained by the MLR model)\n",
    "\n",
    "#2) What is the optimal number of predictors in MLR and how much variance in mass balance gradient\n",
    "# can be explained by this MLR?\n",
    "# Answers: According to the stepwise regression there is only one optimal predictor : CI (continentality index)\n",
    "# With this one predictor, the model explains 25% of the variance (R^2 = 0.25)\n",
    "# According to the calibration-validation approach optimal number of preditors is 4: latitude, max elevation, median elevation, cloud cover\n",
    "# With this four-predictor model R^2 = 0.32 (32% variance is explained)\n",
    "\n",
    "# 3) Plot modelled (regressed) mass balance gradients versus observed ones and discuss whether the\n",
    "# linear model is successful or not (hint: is the model robust, is it resistant to outliers?) \n",
    "# The plots are provided and no obvius outliers are indicated in the scatter plot\n",
    "# There seems to be a tendency for the model (in all three cases above) to \n",
    "# underestimate large mass balance gradients"
   ]
  }
 ],
 "metadata": {
  "kernelspec": {
   "display_name": "Python 3",
   "language": "python",
   "name": "python3"
  },
  "language_info": {
   "codemirror_mode": {
    "name": "ipython",
    "version": 3
   },
   "file_extension": ".py",
   "mimetype": "text/x-python",
   "name": "python",
   "nbconvert_exporter": "python",
   "pygments_lexer": "ipython3",
   "version": "3.7.3"
  }
 },
 "nbformat": 4,
 "nbformat_minor": 4
}

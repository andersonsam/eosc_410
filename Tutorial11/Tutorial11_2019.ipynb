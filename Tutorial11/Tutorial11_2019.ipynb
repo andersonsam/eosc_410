{
 "cells": [
  {
   "cell_type": "markdown",
   "metadata": {},
   "source": [
    "# Tutorial 11\n",
    "MLP on real data, using gridded monthly SST and SLP for the Tropical Pacific from ERA Interim reanalysis.  Period: Jan 1979 to Jun 2015"
   ]
  },
  {
   "cell_type": "code",
   "execution_count": 15,
   "metadata": {},
   "outputs": [],
   "source": [
    "#import required libraries\n",
    "import pandas as pd\n",
    "import numpy as np\n",
    "import matplotlib.pyplot as plt\n",
    "import sklearn\n",
    "from sklearn.neural_network import MLPRegressor\n",
    "from sklearn.decomposition import PCA\n",
    "\n",
    "#define RMSE as a function, since we'll use this in the NN model \n",
    "def rmse(target,prediction):\n",
    "    return(np.sqrt(((target - prediction)**2).sum()/len(target)))"
   ]
  },
  {
   "cell_type": "code",
   "execution_count": 3,
   "metadata": {},
   "outputs": [],
   "source": [
    "#load in data\n",
    "SLP = pd.read_csv('SLPdata.csv',header = None)\n",
    "SST = pd.read_csv('SSTdata.csv',header = None)"
   ]
  },
  {
   "cell_type": "code",
   "execution_count": 5,
   "metadata": {},
   "outputs": [],
   "source": [
    "#PCA on both datasets\n",
    "\n",
    "data = SLP\n",
    "n_modes_SLP = np.min(np.shape(SLP))\n",
    "pca_SLP = PCA(n_components = n_modes_SLP)\n",
    "PCs_SLP = pca_SLP.fit_transform(data)\n",
    "eigvecs_SLP = pca_SLP.components_\n",
    "fracVar_SLP = pca_SLP.explained_variance_ratio_\n",
    "\n",
    "data = SST\n",
    "n_modes_SST = np.min(np.shape(SST))\n",
    "pca_SST = PCA(n_components = n_modes_SST)\n",
    "PCs_SST = pca_SST.fit_transform(data)\n",
    "eigvecs_SST = pca_SST.components_\n",
    "fracVar_SST = pca_SST.explained_variance_ratio_"
   ]
  },
  {
   "cell_type": "code",
   "execution_count": 36,
   "metadata": {},
   "outputs": [],
   "source": [
    "#use first 10 PCs of SLP to predict first PC of SST\n",
    "\n",
    "x = PCs_SLP[:,:10]\n",
    "y = PCs_SLP[:,0]\n",
    "\n",
    "Ntrain = 300\n",
    "x_train = x[:Ntrain]\n",
    "y_train = y[:Ntrain]\n",
    "\n",
    "x_test = x[Ntrain:]\n",
    "y_test = y[Ntrain:]\n",
    "\n",
    "#standardize\n",
    "x_mean = np.mean(x_train)\n",
    "x_std = np.std(x_train)\n",
    "\n",
    "y_mean = np.mean(y_train)\n",
    "y_std = np.std(y_train)\n",
    "\n",
    "x_train = (x_train - x_mean)/x_std\n",
    "y_train = (y_train - y_mean)/y_std\n",
    "\n",
    "x_test = (x_test - x_mean)/x_std\n",
    "y_test = (y_test - y_mean)/y_std"
   ]
  },
  {
   "cell_type": "code",
   "execution_count": 40,
   "metadata": {},
   "outputs": [
    {
     "name": "stdout",
     "output_type": "stream",
     "text": [
      "Model Number: 0\n",
      "\t # Hidden Layers = 1\n",
      "\t\t # hidden neurons = 3\n"
     ]
    },
    {
     "name": "stderr",
     "output_type": "stream",
     "text": [
      "/Users/samanderson/anaconda3/envs/eosc_410/lib/python3.7/site-packages/sklearn/neural_network/multilayer_perceptron.py:566: ConvergenceWarning: Stochastic Optimizer: Maximum iterations (1000) reached and the optimization hasn't converged yet.\n",
      "  % self.max_iter, ConvergenceWarning)\n"
     ]
    },
    {
     "name": "stdout",
     "output_type": "stream",
     "text": [
      "\t\t # hidden neurons = 4\n",
      "\t\t # hidden neurons = 5\n",
      "\t\t # hidden neurons = 6\n"
     ]
    },
    {
     "name": "stderr",
     "output_type": "stream",
     "text": [
      "/Users/samanderson/anaconda3/envs/eosc_410/lib/python3.7/site-packages/sklearn/neural_network/multilayer_perceptron.py:566: ConvergenceWarning: Stochastic Optimizer: Maximum iterations (1000) reached and the optimization hasn't converged yet.\n",
      "  % self.max_iter, ConvergenceWarning)\n"
     ]
    },
    {
     "name": "stdout",
     "output_type": "stream",
     "text": [
      "\t\t # hidden neurons = 7\n",
      "\t\t # hidden neurons = 8\n"
     ]
    },
    {
     "name": "stderr",
     "output_type": "stream",
     "text": [
      "/Users/samanderson/anaconda3/envs/eosc_410/lib/python3.7/site-packages/sklearn/neural_network/multilayer_perceptron.py:566: ConvergenceWarning: Stochastic Optimizer: Maximum iterations (1000) reached and the optimization hasn't converged yet.\n",
      "  % self.max_iter, ConvergenceWarning)\n"
     ]
    },
    {
     "name": "stdout",
     "output_type": "stream",
     "text": [
      "\t\t # hidden neurons = 9\n",
      "\t\t # hidden neurons = 10\n",
      "\t BEST: 1 hidden layers, 5 hidden neurons\n",
      "Model Number: 1\n",
      "\t # Hidden Layers = 1\n",
      "\t\t # hidden neurons = 3\n"
     ]
    },
    {
     "name": "stderr",
     "output_type": "stream",
     "text": [
      "/Users/samanderson/anaconda3/envs/eosc_410/lib/python3.7/site-packages/sklearn/neural_network/multilayer_perceptron.py:566: ConvergenceWarning: Stochastic Optimizer: Maximum iterations (1000) reached and the optimization hasn't converged yet.\n",
      "  % self.max_iter, ConvergenceWarning)\n"
     ]
    },
    {
     "name": "stdout",
     "output_type": "stream",
     "text": [
      "\t\t # hidden neurons = 4\n"
     ]
    },
    {
     "name": "stderr",
     "output_type": "stream",
     "text": [
      "/Users/samanderson/anaconda3/envs/eosc_410/lib/python3.7/site-packages/sklearn/neural_network/multilayer_perceptron.py:566: ConvergenceWarning: Stochastic Optimizer: Maximum iterations (1000) reached and the optimization hasn't converged yet.\n",
      "  % self.max_iter, ConvergenceWarning)\n"
     ]
    },
    {
     "name": "stdout",
     "output_type": "stream",
     "text": [
      "\t\t # hidden neurons = 5\n"
     ]
    },
    {
     "name": "stderr",
     "output_type": "stream",
     "text": [
      "/Users/samanderson/anaconda3/envs/eosc_410/lib/python3.7/site-packages/sklearn/neural_network/multilayer_perceptron.py:566: ConvergenceWarning: Stochastic Optimizer: Maximum iterations (1000) reached and the optimization hasn't converged yet.\n",
      "  % self.max_iter, ConvergenceWarning)\n"
     ]
    },
    {
     "name": "stdout",
     "output_type": "stream",
     "text": [
      "\t\t # hidden neurons = 6\n",
      "\t\t # hidden neurons = 7\n",
      "\t\t # hidden neurons = 8\n"
     ]
    },
    {
     "name": "stderr",
     "output_type": "stream",
     "text": [
      "/Users/samanderson/anaconda3/envs/eosc_410/lib/python3.7/site-packages/sklearn/neural_network/multilayer_perceptron.py:566: ConvergenceWarning: Stochastic Optimizer: Maximum iterations (1000) reached and the optimization hasn't converged yet.\n",
      "  % self.max_iter, ConvergenceWarning)\n"
     ]
    },
    {
     "name": "stdout",
     "output_type": "stream",
     "text": [
      "\t\t # hidden neurons = 9\n",
      "\t\t # hidden neurons = 10\n"
     ]
    },
    {
     "name": "stderr",
     "output_type": "stream",
     "text": [
      "/Users/samanderson/anaconda3/envs/eosc_410/lib/python3.7/site-packages/sklearn/neural_network/multilayer_perceptron.py:566: ConvergenceWarning: Stochastic Optimizer: Maximum iterations (1000) reached and the optimization hasn't converged yet.\n",
      "  % self.max_iter, ConvergenceWarning)\n"
     ]
    },
    {
     "name": "stdout",
     "output_type": "stream",
     "text": [
      "\t BEST: 1 hidden layers, 9 hidden neurons\n",
      "Model Number: 2\n",
      "\t # Hidden Layers = 1\n",
      "\t\t # hidden neurons = 3\n"
     ]
    },
    {
     "name": "stderr",
     "output_type": "stream",
     "text": [
      "/Users/samanderson/anaconda3/envs/eosc_410/lib/python3.7/site-packages/sklearn/neural_network/multilayer_perceptron.py:566: ConvergenceWarning: Stochastic Optimizer: Maximum iterations (1000) reached and the optimization hasn't converged yet.\n",
      "  % self.max_iter, ConvergenceWarning)\n"
     ]
    },
    {
     "name": "stdout",
     "output_type": "stream",
     "text": [
      "\t\t # hidden neurons = 4\n"
     ]
    },
    {
     "name": "stderr",
     "output_type": "stream",
     "text": [
      "/Users/samanderson/anaconda3/envs/eosc_410/lib/python3.7/site-packages/sklearn/neural_network/multilayer_perceptron.py:566: ConvergenceWarning: Stochastic Optimizer: Maximum iterations (1000) reached and the optimization hasn't converged yet.\n",
      "  % self.max_iter, ConvergenceWarning)\n"
     ]
    },
    {
     "name": "stdout",
     "output_type": "stream",
     "text": [
      "\t\t # hidden neurons = 5\n",
      "\t\t # hidden neurons = 6\n"
     ]
    },
    {
     "name": "stderr",
     "output_type": "stream",
     "text": [
      "/Users/samanderson/anaconda3/envs/eosc_410/lib/python3.7/site-packages/sklearn/neural_network/multilayer_perceptron.py:566: ConvergenceWarning: Stochastic Optimizer: Maximum iterations (1000) reached and the optimization hasn't converged yet.\n",
      "  % self.max_iter, ConvergenceWarning)\n"
     ]
    },
    {
     "name": "stdout",
     "output_type": "stream",
     "text": [
      "\t\t # hidden neurons = 7\n"
     ]
    },
    {
     "name": "stderr",
     "output_type": "stream",
     "text": [
      "/Users/samanderson/anaconda3/envs/eosc_410/lib/python3.7/site-packages/sklearn/neural_network/multilayer_perceptron.py:566: ConvergenceWarning: Stochastic Optimizer: Maximum iterations (1000) reached and the optimization hasn't converged yet.\n",
      "  % self.max_iter, ConvergenceWarning)\n"
     ]
    },
    {
     "name": "stdout",
     "output_type": "stream",
     "text": [
      "\t\t # hidden neurons = 8\n"
     ]
    },
    {
     "name": "stderr",
     "output_type": "stream",
     "text": [
      "/Users/samanderson/anaconda3/envs/eosc_410/lib/python3.7/site-packages/sklearn/neural_network/multilayer_perceptron.py:566: ConvergenceWarning: Stochastic Optimizer: Maximum iterations (1000) reached and the optimization hasn't converged yet.\n",
      "  % self.max_iter, ConvergenceWarning)\n"
     ]
    },
    {
     "name": "stdout",
     "output_type": "stream",
     "text": [
      "\t\t # hidden neurons = 9\n"
     ]
    },
    {
     "name": "stderr",
     "output_type": "stream",
     "text": [
      "/Users/samanderson/anaconda3/envs/eosc_410/lib/python3.7/site-packages/sklearn/neural_network/multilayer_perceptron.py:566: ConvergenceWarning: Stochastic Optimizer: Maximum iterations (1000) reached and the optimization hasn't converged yet.\n",
      "  % self.max_iter, ConvergenceWarning)\n"
     ]
    },
    {
     "name": "stdout",
     "output_type": "stream",
     "text": [
      "\t\t # hidden neurons = 10\n",
      "\t BEST: 1 hidden layers, 7 hidden neurons\n",
      "Model Number: 3\n",
      "\t # Hidden Layers = 1\n",
      "\t\t # hidden neurons = 3\n"
     ]
    },
    {
     "name": "stderr",
     "output_type": "stream",
     "text": [
      "/Users/samanderson/anaconda3/envs/eosc_410/lib/python3.7/site-packages/sklearn/neural_network/multilayer_perceptron.py:566: ConvergenceWarning: Stochastic Optimizer: Maximum iterations (1000) reached and the optimization hasn't converged yet.\n",
      "  % self.max_iter, ConvergenceWarning)\n"
     ]
    },
    {
     "name": "stdout",
     "output_type": "stream",
     "text": [
      "\t\t # hidden neurons = 4\n"
     ]
    },
    {
     "name": "stderr",
     "output_type": "stream",
     "text": [
      "/Users/samanderson/anaconda3/envs/eosc_410/lib/python3.7/site-packages/sklearn/neural_network/multilayer_perceptron.py:566: ConvergenceWarning: Stochastic Optimizer: Maximum iterations (1000) reached and the optimization hasn't converged yet.\n",
      "  % self.max_iter, ConvergenceWarning)\n"
     ]
    },
    {
     "name": "stdout",
     "output_type": "stream",
     "text": [
      "\t\t # hidden neurons = 5\n"
     ]
    },
    {
     "name": "stderr",
     "output_type": "stream",
     "text": [
      "/Users/samanderson/anaconda3/envs/eosc_410/lib/python3.7/site-packages/sklearn/neural_network/multilayer_perceptron.py:566: ConvergenceWarning: Stochastic Optimizer: Maximum iterations (1000) reached and the optimization hasn't converged yet.\n",
      "  % self.max_iter, ConvergenceWarning)\n"
     ]
    },
    {
     "name": "stdout",
     "output_type": "stream",
     "text": [
      "\t\t # hidden neurons = 6\n",
      "\t\t # hidden neurons = 7\n"
     ]
    },
    {
     "name": "stderr",
     "output_type": "stream",
     "text": [
      "/Users/samanderson/anaconda3/envs/eosc_410/lib/python3.7/site-packages/sklearn/neural_network/multilayer_perceptron.py:566: ConvergenceWarning: Stochastic Optimizer: Maximum iterations (1000) reached and the optimization hasn't converged yet.\n",
      "  % self.max_iter, ConvergenceWarning)\n"
     ]
    },
    {
     "name": "stdout",
     "output_type": "stream",
     "text": [
      "\t\t # hidden neurons = 8\n",
      "\t\t # hidden neurons = 9\n",
      "\t\t # hidden neurons = 10\n"
     ]
    },
    {
     "name": "stderr",
     "output_type": "stream",
     "text": [
      "/Users/samanderson/anaconda3/envs/eosc_410/lib/python3.7/site-packages/sklearn/neural_network/multilayer_perceptron.py:566: ConvergenceWarning: Stochastic Optimizer: Maximum iterations (1000) reached and the optimization hasn't converged yet.\n",
      "  % self.max_iter, ConvergenceWarning)\n"
     ]
    },
    {
     "name": "stdout",
     "output_type": "stream",
     "text": [
      "\t BEST: 1 hidden layers, 8 hidden neurons\n",
      "Model Number: 4\n",
      "\t # Hidden Layers = 1\n",
      "\t\t # hidden neurons = 3\n"
     ]
    },
    {
     "name": "stderr",
     "output_type": "stream",
     "text": [
      "/Users/samanderson/anaconda3/envs/eosc_410/lib/python3.7/site-packages/sklearn/neural_network/multilayer_perceptron.py:566: ConvergenceWarning: Stochastic Optimizer: Maximum iterations (1000) reached and the optimization hasn't converged yet.\n",
      "  % self.max_iter, ConvergenceWarning)\n"
     ]
    },
    {
     "name": "stdout",
     "output_type": "stream",
     "text": [
      "\t\t # hidden neurons = 4\n",
      "\t\t # hidden neurons = 5\n"
     ]
    },
    {
     "name": "stderr",
     "output_type": "stream",
     "text": [
      "/Users/samanderson/anaconda3/envs/eosc_410/lib/python3.7/site-packages/sklearn/neural_network/multilayer_perceptron.py:566: ConvergenceWarning: Stochastic Optimizer: Maximum iterations (1000) reached and the optimization hasn't converged yet.\n",
      "  % self.max_iter, ConvergenceWarning)\n"
     ]
    },
    {
     "name": "stdout",
     "output_type": "stream",
     "text": [
      "\t\t # hidden neurons = 6\n",
      "\t\t # hidden neurons = 7\n"
     ]
    },
    {
     "name": "stderr",
     "output_type": "stream",
     "text": [
      "/Users/samanderson/anaconda3/envs/eosc_410/lib/python3.7/site-packages/sklearn/neural_network/multilayer_perceptron.py:566: ConvergenceWarning: Stochastic Optimizer: Maximum iterations (1000) reached and the optimization hasn't converged yet.\n",
      "  % self.max_iter, ConvergenceWarning)\n"
     ]
    },
    {
     "name": "stdout",
     "output_type": "stream",
     "text": [
      "\t\t # hidden neurons = 8\n",
      "\t\t # hidden neurons = 9\n"
     ]
    },
    {
     "name": "stderr",
     "output_type": "stream",
     "text": [
      "/Users/samanderson/anaconda3/envs/eosc_410/lib/python3.7/site-packages/sklearn/neural_network/multilayer_perceptron.py:566: ConvergenceWarning: Stochastic Optimizer: Maximum iterations (1000) reached and the optimization hasn't converged yet.\n",
      "  % self.max_iter, ConvergenceWarning)\n"
     ]
    },
    {
     "name": "stdout",
     "output_type": "stream",
     "text": [
      "\t\t # hidden neurons = 10\n",
      "\t BEST: 1 hidden layers, 6 hidden neurons\n",
      "Model Number: 5\n",
      "\t # Hidden Layers = 1\n",
      "\t\t # hidden neurons = 3\n"
     ]
    },
    {
     "name": "stderr",
     "output_type": "stream",
     "text": [
      "/Users/samanderson/anaconda3/envs/eosc_410/lib/python3.7/site-packages/sklearn/neural_network/multilayer_perceptron.py:566: ConvergenceWarning: Stochastic Optimizer: Maximum iterations (1000) reached and the optimization hasn't converged yet.\n",
      "  % self.max_iter, ConvergenceWarning)\n"
     ]
    },
    {
     "name": "stdout",
     "output_type": "stream",
     "text": [
      "\t\t # hidden neurons = 4\n",
      "\t\t # hidden neurons = 5\n",
      "\t\t # hidden neurons = 6\n",
      "\t\t # hidden neurons = 7\n",
      "\t\t # hidden neurons = 8\n"
     ]
    },
    {
     "name": "stderr",
     "output_type": "stream",
     "text": [
      "/Users/samanderson/anaconda3/envs/eosc_410/lib/python3.7/site-packages/sklearn/neural_network/multilayer_perceptron.py:566: ConvergenceWarning: Stochastic Optimizer: Maximum iterations (1000) reached and the optimization hasn't converged yet.\n",
      "  % self.max_iter, ConvergenceWarning)\n"
     ]
    },
    {
     "name": "stdout",
     "output_type": "stream",
     "text": [
      "\t\t # hidden neurons = 9\n"
     ]
    },
    {
     "name": "stderr",
     "output_type": "stream",
     "text": [
      "/Users/samanderson/anaconda3/envs/eosc_410/lib/python3.7/site-packages/sklearn/neural_network/multilayer_perceptron.py:566: ConvergenceWarning: Stochastic Optimizer: Maximum iterations (1000) reached and the optimization hasn't converged yet.\n",
      "  % self.max_iter, ConvergenceWarning)\n"
     ]
    },
    {
     "name": "stdout",
     "output_type": "stream",
     "text": [
      "\t\t # hidden neurons = 10\n"
     ]
    },
    {
     "name": "stderr",
     "output_type": "stream",
     "text": [
      "/Users/samanderson/anaconda3/envs/eosc_410/lib/python3.7/site-packages/sklearn/neural_network/multilayer_perceptron.py:566: ConvergenceWarning: Stochastic Optimizer: Maximum iterations (1000) reached and the optimization hasn't converged yet.\n",
      "  % self.max_iter, ConvergenceWarning)\n"
     ]
    },
    {
     "name": "stdout",
     "output_type": "stream",
     "text": [
      "\t BEST: 1 hidden layers, 8 hidden neurons\n",
      "Model Number: 6\n",
      "\t # Hidden Layers = 1\n",
      "\t\t # hidden neurons = 3\n"
     ]
    },
    {
     "name": "stderr",
     "output_type": "stream",
     "text": [
      "/Users/samanderson/anaconda3/envs/eosc_410/lib/python3.7/site-packages/sklearn/neural_network/multilayer_perceptron.py:566: ConvergenceWarning: Stochastic Optimizer: Maximum iterations (1000) reached and the optimization hasn't converged yet.\n",
      "  % self.max_iter, ConvergenceWarning)\n"
     ]
    },
    {
     "name": "stdout",
     "output_type": "stream",
     "text": [
      "\t\t # hidden neurons = 4\n",
      "\t\t # hidden neurons = 5\n",
      "\t\t # hidden neurons = 6\n",
      "\t\t # hidden neurons = 7\n",
      "\t\t # hidden neurons = 8\n",
      "\t\t # hidden neurons = 9\n"
     ]
    },
    {
     "name": "stderr",
     "output_type": "stream",
     "text": [
      "/Users/samanderson/anaconda3/envs/eosc_410/lib/python3.7/site-packages/sklearn/neural_network/multilayer_perceptron.py:566: ConvergenceWarning: Stochastic Optimizer: Maximum iterations (1000) reached and the optimization hasn't converged yet.\n",
      "  % self.max_iter, ConvergenceWarning)\n"
     ]
    },
    {
     "name": "stdout",
     "output_type": "stream",
     "text": [
      "\t\t # hidden neurons = 10\n",
      "\t BEST: 1 hidden layers, 8 hidden neurons\n",
      "Model Number: 7\n",
      "\t # Hidden Layers = 1\n",
      "\t\t # hidden neurons = 3\n",
      "\t\t # hidden neurons = 4\n",
      "\t\t # hidden neurons = 5\n",
      "\t\t # hidden neurons = 6\n"
     ]
    },
    {
     "name": "stderr",
     "output_type": "stream",
     "text": [
      "/Users/samanderson/anaconda3/envs/eosc_410/lib/python3.7/site-packages/sklearn/neural_network/multilayer_perceptron.py:566: ConvergenceWarning: Stochastic Optimizer: Maximum iterations (1000) reached and the optimization hasn't converged yet.\n",
      "  % self.max_iter, ConvergenceWarning)\n"
     ]
    },
    {
     "name": "stdout",
     "output_type": "stream",
     "text": [
      "\t\t # hidden neurons = 7\n"
     ]
    },
    {
     "name": "stderr",
     "output_type": "stream",
     "text": [
      "/Users/samanderson/anaconda3/envs/eosc_410/lib/python3.7/site-packages/sklearn/neural_network/multilayer_perceptron.py:566: ConvergenceWarning: Stochastic Optimizer: Maximum iterations (1000) reached and the optimization hasn't converged yet.\n",
      "  % self.max_iter, ConvergenceWarning)\n"
     ]
    },
    {
     "name": "stdout",
     "output_type": "stream",
     "text": [
      "\t\t # hidden neurons = 8\n",
      "\t\t # hidden neurons = 9\n"
     ]
    },
    {
     "name": "stderr",
     "output_type": "stream",
     "text": [
      "/Users/samanderson/anaconda3/envs/eosc_410/lib/python3.7/site-packages/sklearn/neural_network/multilayer_perceptron.py:566: ConvergenceWarning: Stochastic Optimizer: Maximum iterations (1000) reached and the optimization hasn't converged yet.\n",
      "  % self.max_iter, ConvergenceWarning)\n"
     ]
    },
    {
     "name": "stdout",
     "output_type": "stream",
     "text": [
      "\t\t # hidden neurons = 10\n"
     ]
    },
    {
     "name": "stderr",
     "output_type": "stream",
     "text": [
      "/Users/samanderson/anaconda3/envs/eosc_410/lib/python3.7/site-packages/sklearn/neural_network/multilayer_perceptron.py:566: ConvergenceWarning: Stochastic Optimizer: Maximum iterations (1000) reached and the optimization hasn't converged yet.\n",
      "  % self.max_iter, ConvergenceWarning)\n"
     ]
    },
    {
     "name": "stdout",
     "output_type": "stream",
     "text": [
      "\t BEST: 1 hidden layers, 6 hidden neurons\n",
      "Model Number: 8\n",
      "\t # Hidden Layers = 1\n",
      "\t\t # hidden neurons = 3\n"
     ]
    },
    {
     "name": "stderr",
     "output_type": "stream",
     "text": [
      "/Users/samanderson/anaconda3/envs/eosc_410/lib/python3.7/site-packages/sklearn/neural_network/multilayer_perceptron.py:566: ConvergenceWarning: Stochastic Optimizer: Maximum iterations (1000) reached and the optimization hasn't converged yet.\n",
      "  % self.max_iter, ConvergenceWarning)\n"
     ]
    },
    {
     "name": "stdout",
     "output_type": "stream",
     "text": [
      "\t\t # hidden neurons = 4\n"
     ]
    },
    {
     "name": "stderr",
     "output_type": "stream",
     "text": [
      "/Users/samanderson/anaconda3/envs/eosc_410/lib/python3.7/site-packages/sklearn/neural_network/multilayer_perceptron.py:566: ConvergenceWarning: Stochastic Optimizer: Maximum iterations (1000) reached and the optimization hasn't converged yet.\n",
      "  % self.max_iter, ConvergenceWarning)\n"
     ]
    },
    {
     "name": "stdout",
     "output_type": "stream",
     "text": [
      "\t\t # hidden neurons = 5\n"
     ]
    },
    {
     "name": "stderr",
     "output_type": "stream",
     "text": [
      "/Users/samanderson/anaconda3/envs/eosc_410/lib/python3.7/site-packages/sklearn/neural_network/multilayer_perceptron.py:566: ConvergenceWarning: Stochastic Optimizer: Maximum iterations (1000) reached and the optimization hasn't converged yet.\n",
      "  % self.max_iter, ConvergenceWarning)\n"
     ]
    },
    {
     "name": "stdout",
     "output_type": "stream",
     "text": [
      "\t\t # hidden neurons = 6\n",
      "\t\t # hidden neurons = 7\n",
      "\t\t # hidden neurons = 8\n"
     ]
    },
    {
     "name": "stderr",
     "output_type": "stream",
     "text": [
      "/Users/samanderson/anaconda3/envs/eosc_410/lib/python3.7/site-packages/sklearn/neural_network/multilayer_perceptron.py:566: ConvergenceWarning: Stochastic Optimizer: Maximum iterations (1000) reached and the optimization hasn't converged yet.\n",
      "  % self.max_iter, ConvergenceWarning)\n"
     ]
    },
    {
     "name": "stdout",
     "output_type": "stream",
     "text": [
      "\t\t # hidden neurons = 9\n",
      "\t\t # hidden neurons = 10\n",
      "\t BEST: 1 hidden layers, 5 hidden neurons\n",
      "Model Number: 9\n",
      "\t # Hidden Layers = 1\n",
      "\t\t # hidden neurons = 3\n"
     ]
    },
    {
     "name": "stderr",
     "output_type": "stream",
     "text": [
      "/Users/samanderson/anaconda3/envs/eosc_410/lib/python3.7/site-packages/sklearn/neural_network/multilayer_perceptron.py:566: ConvergenceWarning: Stochastic Optimizer: Maximum iterations (1000) reached and the optimization hasn't converged yet.\n",
      "  % self.max_iter, ConvergenceWarning)\n"
     ]
    },
    {
     "name": "stdout",
     "output_type": "stream",
     "text": [
      "\t\t # hidden neurons = 4\n"
     ]
    },
    {
     "name": "stderr",
     "output_type": "stream",
     "text": [
      "/Users/samanderson/anaconda3/envs/eosc_410/lib/python3.7/site-packages/sklearn/neural_network/multilayer_perceptron.py:566: ConvergenceWarning: Stochastic Optimizer: Maximum iterations (1000) reached and the optimization hasn't converged yet.\n",
      "  % self.max_iter, ConvergenceWarning)\n"
     ]
    },
    {
     "name": "stdout",
     "output_type": "stream",
     "text": [
      "\t\t # hidden neurons = 5\n"
     ]
    },
    {
     "name": "stderr",
     "output_type": "stream",
     "text": [
      "/Users/samanderson/anaconda3/envs/eosc_410/lib/python3.7/site-packages/sklearn/neural_network/multilayer_perceptron.py:566: ConvergenceWarning: Stochastic Optimizer: Maximum iterations (1000) reached and the optimization hasn't converged yet.\n",
      "  % self.max_iter, ConvergenceWarning)\n"
     ]
    },
    {
     "name": "stdout",
     "output_type": "stream",
     "text": [
      "\t\t # hidden neurons = 6\n",
      "\t\t # hidden neurons = 7\n",
      "\t\t # hidden neurons = 8\n"
     ]
    },
    {
     "name": "stderr",
     "output_type": "stream",
     "text": [
      "/Users/samanderson/anaconda3/envs/eosc_410/lib/python3.7/site-packages/sklearn/neural_network/multilayer_perceptron.py:566: ConvergenceWarning: Stochastic Optimizer: Maximum iterations (1000) reached and the optimization hasn't converged yet.\n",
      "  % self.max_iter, ConvergenceWarning)\n"
     ]
    },
    {
     "name": "stdout",
     "output_type": "stream",
     "text": [
      "\t\t # hidden neurons = 9\n"
     ]
    },
    {
     "name": "stderr",
     "output_type": "stream",
     "text": [
      "/Users/samanderson/anaconda3/envs/eosc_410/lib/python3.7/site-packages/sklearn/neural_network/multilayer_perceptron.py:566: ConvergenceWarning: Stochastic Optimizer: Maximum iterations (1000) reached and the optimization hasn't converged yet.\n",
      "  % self.max_iter, ConvergenceWarning)\n"
     ]
    },
    {
     "name": "stdout",
     "output_type": "stream",
     "text": [
      "\t\t # hidden neurons = 10\n",
      "\t BEST: 1 hidden layers, 7 hidden neurons\n"
     ]
    }
   ],
   "source": [
    "#This chunk of code is relatively flexible and can be used to loop through a range of parameters\n",
    "#We'll use this code several different times in the notebook\n",
    "#Play around and see what kinds of models you can make\n",
    "\n",
    "#First: MLP using 1 hidden layer with 10 neurons\n",
    "#Second: MLP using 1 hidden layer with 1-10 neurons\n",
    "#Third: play around with it!\n",
    "\n",
    "max_iter = 1000 #max number of epochs to run\n",
    "early_stopping = True #True = stop early if validation error begins to rise\n",
    "validation_fraction = 0.2 #fraction of training data to use as validation\n",
    "\n",
    "y_out_all_nhn = []\n",
    "y_out_ensemble = []\n",
    "RMSE_ensemble = [] #RMSE for each model in the ensemble\n",
    "RMSE_ensemble_cumsum = [] #RMSE of the cumulative saltation for each model\n",
    "nhn_best = []\n",
    "nhl_best = []\n",
    "\n",
    "##### Play around with these parameters\n",
    "num_models = 10 #number of models to build for the ensemble\n",
    "min_nhn = 3 #minimum number of hidden neurons to loop through (nhn = 'number hidden neurons')\n",
    "max_nhn = 10 #maximum number of hidden neurons to loop through\n",
    "max_hidden_layers = 1 #maximum number of hidden layers to loop through (nhl = 'number hidden layers')\n",
    "#####\n",
    "\n",
    "for model_num in range(num_models): #for each model in the ensemble\n",
    "    \n",
    "    print('Model Number: ' + str(model_num))\n",
    "    \n",
    "    RMSE = []\n",
    "    y_out_all_nhn = []\n",
    "    nhn = []\n",
    "    nhl = []\n",
    "    \n",
    "    for num_hidden_layers in range(1,max_hidden_layers+1):\n",
    "    \n",
    "        print('\\t # Hidden Layers = ' + str(num_hidden_layers))\n",
    "    \n",
    "        for num_hidden_neurons in range(min_nhn,max_nhn+1): #for each number of hidden neurons\n",
    "\n",
    "            print('\\t\\t # hidden neurons = ' + str(num_hidden_neurons))\n",
    "            \n",
    "            hidden_layer_sizes = (num_hidden_neurons,num_hidden_layers)\n",
    "            model = MLPRegressor(hidden_layer_sizes=hidden_layer_sizes, \n",
    "                                 verbose=False,\n",
    "                                 max_iter=max_iter, \n",
    "                                 early_stopping = early_stopping,\n",
    "                                 validation_fraction = validation_fraction,\n",
    "                                activation = 'tanh')\n",
    "\n",
    "            model.fit(x_train,y_train) #train the model\n",
    "\n",
    "            y_out_this_nhn = model.predict(x_test) #model prediction for this number of hidden neurons (nhn)\n",
    "            y_out_all_nhn.append(y_out_this_nhn) #store all models -- will select best one best on RMSE\n",
    "\n",
    "            RMSE.append(rmse(y_test,y_out_this_nhn)) #RMSE between cumulative curves\n",
    "            \n",
    "            nhn.append(num_hidden_neurons)\n",
    "            nhl.append(num_hidden_layers)\n",
    "        \n",
    "    indBest = RMSE.index(np.min(RMSE)) #index of model with lowest RMSE\n",
    "    RMSE_ensemble.append(np.min(RMSE))\n",
    "    nhn_best.append(nhn[indBest])\n",
    "    nhl_best.append(nhl[indBest])\n",
    "    #nhn_best.append(indBest+1) #the number of hidden neurons that achieved best model performance of this model iteration\n",
    "    y_out_ensemble.append(y_out_all_nhn[indBest])\n",
    "    \n",
    "    print('\\t BEST: ' + str(nhl_best[model_num]) + ' hidden layers, '+ str(nhn_best[model_num]) + ' hidden neurons')\n",
    "    \n",
    "y_out_ensemble_mean = np.mean(y_out_ensemble,axis=0)\n",
    "RMSE_ensemble_mean = rmse(y_out_ensemble_mean,y_test)"
   ]
  },
  {
   "cell_type": "code",
   "execution_count": 43,
   "metadata": {},
   "outputs": [
    {
     "data": {
      "image/png": "[encoded data removed]",
      "text/plain": [
       "<Figure size 864x576 with 5 Axes>"
      ]
     },
     "metadata": {
      "needs_background": "light"
     },
     "output_type": "display_data"
    }
   ],
   "source": [
    "#visualize\n",
    "\n",
    "plt.figure(figsize=(12,8))\n",
    "\n",
    "plt.subplot(241)\n",
    "plt.scatter(len(RMSE_ensemble),RMSE_ensemble_mean,c='k',marker='*')\n",
    "plt.scatter(range(len(RMSE_ensemble)),RMSE_ensemble)\n",
    "plt.xlabel('Model #')\n",
    "plt.ylabel('RMSE')\n",
    "plt.title('Error')\n",
    "\n",
    "plt.subplot(242)\n",
    "plt.scatter(range(len(nhn_best)),nhn_best)\n",
    "plt.xlabel('Model #')\n",
    "plt.ylabel('# Hidden Neurons')\n",
    "plt.title('Hidden Neurons')\n",
    "\n",
    "plt.subplot(243)\n",
    "plt.scatter(range(len(nhl_best)),nhl_best)\n",
    "plt.xlabel('Model #')\n",
    "plt.ylabel('# Hidden Layers')\n",
    "plt.title('Hidden Layers')\n",
    "\n",
    "plt.subplot(244)\n",
    "plt.scatter(y_test,y_out_ensemble_mean)\n",
    "#plt.plot((np.min(y_test),np.max(y_test)),'k--')\n",
    "plt.xlabel('y_test')\n",
    "plt.ylabel('y_model')\n",
    "plt.title('Ensemble')\n",
    "\n",
    "plt.subplot(212)\n",
    "plt.plot(y_out_ensemble_mean)\n",
    "plt.plot(y_test,alpha = 0.5)\n",
    "\n",
    "plt.tight_layout()"
   ]
  },
  {
   "cell_type": "code",
   "execution_count": 44,
   "metadata": {},
   "outputs": [
    {
     "data": {
      "image/png": "[encoded data removed]",
      "text/plain": [
       "<Figure size 432x288 with 1 Axes>"
      ]
     },
     "metadata": {
      "needs_background": "light"
     },
     "output_type": "display_data"
    }
   ],
   "source": [
    "#visualize individual model runs\n",
    "\n",
    "plt.scatter(range(len(y_test)),y_test,label='Observations',zorder = 0,alpha = 0.3)\n",
    "plt.plot(np.transpose(y_out_ensemble[0]),color = 'k',alpha = 0.4,label='Individual Models',zorder=1)\n",
    "plt.plot(np.transpose(y_out_ensemble[1:]),color = 'k',alpha = 0.4,zorder=1)\n",
    "plt.plot(y_out_ensemble_mean,color = 'k',label = 'Ensemble',zorder=2)\n",
    "plt.xlabel('x')\n",
    "plt.ylabel('y')\n",
    "plt.title('MLP Model Results')\n",
    "plt.legend()\n",
    "\n",
    "plt.show()"
   ]
  }
 ],
 "metadata": {
  "kernelspec": {
   "display_name": "Python 3",
   "language": "python",
   "name": "python3"
  },
  "language_info": {
   "codemirror_mode": {
    "name": "ipython",
    "version": 3
   },
   "file_extension": ".py",
   "mimetype": "text/x-python",
   "name": "python",
   "nbconvert_exporter": "python",
   "pygments_lexer": "ipython3",
   "version": "3.7.3"
  }
 },
 "nbformat": 4,
 "nbformat_minor": 4
}
